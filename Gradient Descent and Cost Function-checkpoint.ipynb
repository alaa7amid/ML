{
 "cells": [
  {
   "cell_type": "code",
   "execution_count": 32,
   "id": "32d28263",
   "metadata": {},
   "outputs": [],
   "source": [
    "import numpy as np\n",
    "\n"
   ]
  },
  {
   "cell_type": "code",
   "execution_count": 1,
   "id": "f883e9fe",
   "metadata": {},
   "outputs": [
    {
     "ename": "NameError",
     "evalue": "name 'np' is not defined",
     "output_type": "error",
     "traceback": [
      "\u001b[1;31m---------------------------------------------------------------------------\u001b[0m",
      "\u001b[1;31mNameError\u001b[0m                                 Traceback (most recent call last)",
      "Input \u001b[1;32mIn [1]\u001b[0m, in \u001b[0;36m<cell line: 15>\u001b[1;34m()\u001b[0m\n\u001b[0;32m     12\u001b[0m         m_curr\u001b[38;5;241m=\u001b[39mm_curr\u001b[38;5;241m-\u001b[39mlearningRate\u001b[38;5;241m*\u001b[39mmd\n\u001b[0;32m     13\u001b[0m         \u001b[38;5;28mprint\u001b[39m(\u001b[38;5;124m\"\u001b[39m\u001b[38;5;124mm@1:\u001b[39m\u001b[38;5;132;01m{}\u001b[39;00m\u001b[38;5;124m,b@0:\u001b[39m\u001b[38;5;132;01m{}\u001b[39;00m\u001b[38;5;124m,cost\u001b[39m\u001b[38;5;132;01m{}\u001b[39;00m\u001b[38;5;124m,iteration:\u001b[39m\u001b[38;5;132;01m{}\u001b[39;00m\u001b[38;5;124m\"\u001b[39m\u001b[38;5;241m.\u001b[39mformat(m_curr,b_curr,cost,i))\n\u001b[1;32m---> 15\u001b[0m x\u001b[38;5;241m=\u001b[39m\u001b[43mnp\u001b[49m\u001b[38;5;241m.\u001b[39marray([\u001b[38;5;241m1\u001b[39m,\u001b[38;5;241m2\u001b[39m,\u001b[38;5;241m3\u001b[39m,\u001b[38;5;241m4\u001b[39m,\u001b[38;5;241m5\u001b[39m])\n\u001b[0;32m     16\u001b[0m y\u001b[38;5;241m=\u001b[39mnp\u001b[38;5;241m.\u001b[39marray([\u001b[38;5;241m6\u001b[39m,\u001b[38;5;241m7\u001b[39m,\u001b[38;5;241m8\u001b[39m,\u001b[38;5;241m9\u001b[39m,\u001b[38;5;241m10\u001b[39m])\n",
      "\u001b[1;31mNameError\u001b[0m: name 'np' is not defined"
     ]
    }
   ],
   "source": [
    "def GradientDescent(x,y):\n",
    "    b_curr=m_curr=0\n",
    "    iteration=10\n",
    "    learningRate=0.07\n",
    "    n=len(x)\n",
    "    for i in range(iteration):\n",
    "        y_pridection=m_curr*x+b_curr\n",
    "        cost=(1/n)* sum ( (y_pridection-y)**2)\n",
    "        bd=(2/n)*sum(y_pridection-y)\n",
    "        md=(2/n)*sum((y_pridection-y)*x)\n",
    "        b_curr=b_curr-learningRate*bd\n",
    "        m_curr=m_curr-learningRate*md\n",
    "        print(\"m@1:{},b@0:{},cost{},iteration:{}\".format(m_curr,b_curr,cost,i))\n",
    "\n",
    "x=np.array([1,2,3,4,5])\n",
    "y=np.array([6,7,8,9,10])\n",
    "\n"
   ]
  },
  {
   "cell_type": "code",
   "execution_count": null,
   "id": "301fbd79",
   "metadata": {},
   "outputs": [],
   "source": [
    "GradientDescent(x,y)"
   ]
  },
  {
   "cell_type": "code",
   "execution_count": null,
   "id": "3c41660b",
   "metadata": {},
   "outputs": [],
   "source": []
  },
  {
   "cell_type": "code",
   "execution_count": null,
   "id": "a67ab55b",
   "metadata": {},
   "outputs": [],
   "source": []
  }
 ],
 "metadata": {
  "kernelspec": {
   "display_name": "Python 3 (ipykernel)",
   "language": "python",
   "name": "python3"
  },
  "language_info": {
   "codemirror_mode": {
    "name": "ipython",
    "version": 3
   },
   "file_extension": ".py",
   "mimetype": "text/x-python",
   "name": "python",
   "nbconvert_exporter": "python",
   "pygments_lexer": "ipython3",
   "version": "3.9.12"
  }
 },
 "nbformat": 4,
 "nbformat_minor": 5
}
