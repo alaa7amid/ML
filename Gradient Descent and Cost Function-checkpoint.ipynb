{
 "cells": [
  {
   "cell_type": "code",
   "execution_count": 2,
   "id": "32d28263",
   "metadata": {},
   "outputs": [],
   "source": [
    "import numpy as np\n",
    "\n"
   ]
  },
  {
   "cell_type": "code",
   "execution_count": 5,
   "id": "f883e9fe",
   "metadata": {},
   "outputs": [],
   "source": [
    "def GradientDescent(x,y):\n",
    "    b_curr=m_curr=0\n",
    "    iteration=10\n",
    "    learningRate=0.07\n",
    "    n=len(x)\n",
    "    for i in range(iteration):\n",
    "        y_pridection=m_curr*x+b_curr\n",
    "        cost=(1/n)* sum ( (y_pridection-y)**2)\n",
    "        bd=(2/n)*sum(y_pridection-y)\n",
    "        md=(2/n)*sum((y_pridection-y)*x)\n",
    "        b_curr=b_curr-learningRate*bd\n",
    "        m_curr=m_curr-learningRate*md\n",
    "        print(\"m@1:{},  b@0:{},  cost:{},  iteration:{}\".format(m_curr,b_curr,cost,i))\n",
    "\n",
    "x=np.array([1,2,3,4,5])\n",
    "y=np.array([6,7,8,9,10])\n",
    "\n"
   ]
  },
  {
   "cell_type": "code",
   "execution_count": 6,
   "id": "301fbd79",
   "metadata": {},
   "outputs": [
    {
     "name": "stdout",
     "output_type": "stream",
     "text": [
      "m@1:3.6400000000000006,  b@0:1.12,  cost:66.0,  iteration:0\n",
      "m@1:1.2039999999999984,  b@0:0.5543999999999997,  cost:30.26080000000003,  iteration:1\n",
      "m@1:2.756992000000001,  b@0:1.0911040000000005,  cost:14.779720960000038,  iteration:2\n",
      "m@1:1.6929606399999986,  b@0:0.9004127999999998,  cost:8.029303702528024,  iteration:3\n",
      "m@1:2.347627878400001,  b@0:1.1833115392000004,  cost:5.043638725798313,  iteration:4\n",
      "m@1:1.8752900991999994,  b@0:1.151644214784,  cost:3.6833660542036224,  iteration:5\n",
      "m@1:2.14365277622272,  b@0:1.3227921830502403,  cost:3.026736282946823,  iteration:6\n",
      "m@1:1.9268547839586305,  b@0:1.3572671114096642,  cost:2.676522155602818,  iteration:7\n",
      "m@1:2.0294462298702807,  b@0:1.4779707065496863,  cost:2.4614541667943253,  iteration:8\n",
      "m@1:1.9233513391191803,  b@0:1.5386873910872123,  cost:2.3076066202469145,  iteration:9\n"
     ]
    }
   ],
   "source": [
    "GradientDescent(x,y)"
   ]
  },
  {
   "cell_type": "code",
   "execution_count": 8,
   "id": "3c41660b",
   "metadata": {},
   "outputs": [],
   "source": [
    "y_pridection=3.6400000000000006*1+1.12"
   ]
  },
  {
   "cell_type": "code",
   "execution_count": 9,
   "id": "a67ab55b",
   "metadata": {},
   "outputs": [
    {
     "data": {
      "text/plain": [
       "4.760000000000001"
      ]
     },
     "execution_count": 9,
     "metadata": {},
     "output_type": "execute_result"
    }
   ],
   "source": [
    "y_pridection"
   ]
  },
  {
   "cell_type": "code",
   "execution_count": null,
   "id": "fcdaea51",
   "metadata": {},
   "outputs": [],
   "source": []
  }
 ],
 "metadata": {
  "kernelspec": {
   "display_name": "Python 3 (ipykernel)",
   "language": "python",
   "name": "python3"
  },
  "language_info": {
   "codemirror_mode": {
    "name": "ipython",
    "version": 3
   },
   "file_extension": ".py",
   "mimetype": "text/x-python",
   "name": "python",
   "nbconvert_exporter": "python",
   "pygments_lexer": "ipython3",
   "version": "3.9.12"
  }
 },
 "nbformat": 4,
 "nbformat_minor": 5
}
