{
 "cells": [
  {
   "cell_type": "code",
   "execution_count": 2,
   "id": "9364277e",
   "metadata": {},
   "outputs": [],
   "source": [
    "#import library\n",
    "from sklearn.datasets import load_iris"
   ]
  },
  {
   "cell_type": "code",
   "execution_count": 17,
   "id": "237ba2dd",
   "metadata": {},
   "outputs": [],
   "source": [
    "#load Iris_data\n",
    "Iris_data=load_iris()"
   ]
  },
  {
   "cell_type": "code",
   "execution_count": 24,
   "id": "011bd934",
   "metadata": {},
   "outputs": [
    {
     "name": "stdout",
     "output_type": "stream",
     "text": [
      "x data is: \n",
      " [[5.1 3.5 1.4 0.2]\n",
      " [4.9 3.  1.4 0.2]\n",
      " [4.7 3.2 1.3 0.2]\n",
      " [4.6 3.1 1.5 0.2]\n",
      " [5.  3.6 1.4 0.2]\n",
      " [5.4 3.9 1.7 0.4]\n",
      " [4.6 3.4 1.4 0.3]\n",
      " [5.  3.4 1.5 0.2]\n",
      " [4.4 2.9 1.4 0.2]\n",
      " [4.9 3.1 1.5 0.1]]\n",
      "x shape is:\n",
      " (150, 4)\n",
      "x Feature data is:\n",
      "  ['sepal length (cm)', 'sepal width (cm)', 'petal length (cm)', 'petal width (cm)']\n"
     ]
    }
   ],
   "source": [
    "#x data\n",
    "x=Iris_data.data\n",
    "print(\"x data is: \\n\",x[:10])\n",
    "print(\"x shape is:\\n\",x.shape)\n",
    "print(\"x Feature data is:\\n \",Iris_data.feature_names)"
   ]
  },
  {
   "cell_type": "code",
   "execution_count": null,
   "id": "5a7aa754",
   "metadata": {},
   "outputs": [],
   "source": [
    "#y data\n",
    "y=Iris_data.target"
   ]
  },
  {
   "cell_type": "code",
   "execution_count": 28,
   "id": "d1e76b1f",
   "metadata": {},
   "outputs": [
    {
     "name": "stdout",
     "output_type": "stream",
     "text": [
      "y data is:\n",
      " [0 0 0 0 0 0 0 0 0 0 0 0 0 0 0 0 0 0 0 0 0 0 0 0 0 0 0 0 0 0]\n",
      "y data shape is:\n",
      " (150,)\n",
      "y Target names is:\n",
      " ['setosa' 'versicolor' 'virginica']\n"
     ]
    }
   ],
   "source": [
    "print(\"y data is:\\n\", y[:30])\n",
    "print(\"y data shape is:\\n\",y.shape)\n",
    "print(\"y Target names is:\\n\",Iris_data.target_names)"
   ]
  },
  {
   "cell_type": "code",
   "execution_count": null,
   "id": "6535fb4f",
   "metadata": {},
   "outputs": [],
   "source": []
  }
 ],
 "metadata": {
  "kernelspec": {
   "display_name": "Python 3 (ipykernel)",
   "language": "python",
   "name": "python3"
  },
  "language_info": {
   "codemirror_mode": {
    "name": "ipython",
    "version": 3
   },
   "file_extension": ".py",
   "mimetype": "text/x-python",
   "name": "python",
   "nbconvert_exporter": "python",
   "pygments_lexer": "ipython3",
   "version": "3.9.12"
  }
 },
 "nbformat": 4,
 "nbformat_minor": 5
}
